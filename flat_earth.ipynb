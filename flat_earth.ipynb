{
  "nbformat": 4,
  "nbformat_minor": 0,
  "metadata": {
    "colab": {
      "name": "flat_earth.ipynb",
      "provenance": [],
      "collapsed_sections": []
    },
    "kernelspec": {
      "name": "python3",
      "display_name": "Python 3"
    },
    "language_info": {
      "name": "python"
    }
  },
  "cells": [
    {
      "cell_type": "markdown",
      "source": [
        "## Given an initial guess of orbit state vector and series of observations, use Newton-Raphson iteration to calculate better estimate of orbit state vector. \n",
        "#### Exercise taken from Chapter 1 of Statistical Orbit Determination by Taply, Schutz, & Born (2004) "
      ],
      "metadata": {
        "id": "R05MNZXVGQ53"
      }
    },
    {
      "cell_type": "code",
      "execution_count": 184,
      "metadata": {
        "id": "cajhdGJQBsxu"
      },
      "outputs": [],
      "source": [
        "import numpy as np\n",
        "from numpy.linalg import solve\n",
        "import matplotlib.pyplot as plt\n",
        "from matplotlib import animation\n",
        "from math import sqrt\n",
        "from scipy import special "
      ]
    },
    {
      "cell_type": "markdown",
      "source": [
        "#### Given values: (all unitless)\n",
        "- initial state vector guess\n",
        "- five range observations and corresponding times\n",
        "- true state vector (for checking convergence) \n"
      ],
      "metadata": {
        "id": "U74BPo0uHLa_"
      }
    },
    {
      "cell_type": "code",
      "source": [
        "# Initial guess of orbit state vector values\n",
        "# X0,Y0 coordinates of satellite (X horizontal, Y vertical, assuming flat earth lol)\n",
        "# Xdot0,Ydot0 instantaneous velocities \n",
        "# g is acceleration along Y axis \n",
        "# Xs, Ys are global varaibles describing radar station coordinates (not to be solved for)\n",
        "[X0, Y0, Xdot0, Ydot0, g, Xs, Ys] = [1.5, 10.0, 2.2, 0.5, 0.3, 1.0, 1.0]\n",
        "\n",
        "# Observation times, ranges \n",
        "# Stored as column vectors\n",
        "obs_times = np.array([0,1,2,3,4]).T\n",
        "obs_rhos = np.array( [7.0, 8.00390597, 8.94427191, 9.801147892, 10.630145813] ).T\n",
        "\n",
        "# Given answer, to check convergence. Also store as column vector\n",
        "# [X0, Y0, Xdot0, Ydot0, g] \n",
        "state_true = np.array( [1.0, 8.0, 2.0, 1.0, 0.5] ).T "
      ],
      "metadata": {
        "id": "uyckTMvjrlmE"
      },
      "execution_count": 237,
      "outputs": []
    },
    {
      "cell_type": "markdown",
      "source": [
        "#### Definitions: \n",
        "- rho_fct is expression for range (rho), or distance in X,Y plane from observation station as a function of time and orbit state vector, assuming flat earth (lol)\n",
        "- Followed by partial derivatives of rho_fct with respect to all 5 orbital state vector elements"
      ],
      "metadata": {
        "id": "UTCuaidBKzNv"
      }
    },
    {
      "cell_type": "code",
      "source": [
        "def rho_fct(t, state): \n",
        "  # Expression for range (distance from observation point) given position, velocity, time\n",
        "  # Xs and Ys are fixed, global variables for this problem \n",
        "  [X0, Y0, Xdot0, Ydot0, g] = [ state[0], state[1], state[2], state[3], state[4]]\n",
        "  X_part = (X0 - Xs + Xdot0*t)\n",
        "  Y_part = (Y0 - Ys + Ydot0*t - 0.5*g*t**2) \n",
        "  return sqrt( X_part**2 + Y_part**2 )\n",
        "\n",
        "# dJ/dX_0^n (=-dG/dX_0^n) is a 5x5 matrix of derivatives\n",
        "# Rows correspond to each observation (rho1,rho2,...)\n",
        "# Columns correspond to the variable (X0,Y0,...)\n",
        "def drho_dX0(t, state):\n",
        "  [X0, Y0, Xdot0, Ydot0, g] = [ state[0], state[1], state[2], state[3], state[4]]\n",
        "  X_part = (X0 - Xs + Xdot0*t)\n",
        "  Y_part = (Y0 - Ys + Ydot0*t - 0.5*g*t**2) \n",
        "  return X_part / sqrt( X_part**2 + Y_part**2 )\n",
        "\n",
        "def drho_dY0(t, state):\n",
        "  [X0, Y0, Xdot0, Ydot0, g] = [ state[0], state[1], state[2], state[3], state[4]]\n",
        "  X_part = (X0 - Xs + Xdot0*t)\n",
        "  Y_part = (Y0 - Ys + Ydot0*t - 0.5*g*t**2) \n",
        "  return Y_part / sqrt( X_part**2 + Y_part**2 )\n",
        "\n",
        "def drho_dXdot0(t, state):\n",
        "  return t * drho_dX0(t,state) \n",
        "\n",
        "def drho_dYdot0(t, state):\n",
        "  return t * drho_dY0(t,state) \n",
        "\n",
        "def drho_dg(t, state):\n",
        "  return -0.5 * t**2 * drho_dY0(t,state) \n",
        "\n",
        "# J vector difference between observed, current estimated values (following equation 1.2.8)\n",
        "def J_n(state, obs_times, obs_rhos):\n",
        "  # G vector of current estimated rho values given the estimated state vector\n",
        "  G = []\n",
        "  for t in obs_times:\n",
        "    G.append( rho_fct(t, state) )\n",
        "  G = np.array(G).T # Make G a column array to match obs_rhos size \n",
        "  \n",
        "  return obs_rhos - G \n",
        "\n",
        "# dJ_dX is matrix of derivatives of J vector wrt state vector elements \n",
        "def dJ_dX(obs_times, state):\n",
        "  # Create empty nxn array where n is number of state vector elements\n",
        "  dG_dX = np.empty((np.size(state), np.size(state))) \n",
        "  for i,t in enumerate(obs_times):\n",
        "    dG_dX[i,:] = [ drho_dX0(t, state), drho_dY0(t, state), \n",
        "                  drho_dXdot0(t, state), drho_dYdot0(t, state), drho_dg(t, state) ]\n",
        "  return  -dG_dX "
      ],
      "metadata": {
        "id": "RVx4nAbRKycw"
      },
      "execution_count": 238,
      "outputs": []
    },
    {
      "cell_type": "markdown",
      "source": [
        "### Now perform the Newton-Raphson iteration procedure to update estimated orbit state vector until a desired error is reached. \n",
        "#### Following equation (1.2.9) of iteration formula (using 1st-order Taylor series approximation) "
      ],
      "metadata": {
        "id": "B1s74PehRcuH"
      }
    },
    {
      "cell_type": "code",
      "source": [
        "error_threshold = 1e-4 # Some arbitrary value I picked. \n",
        "max_iterations = 20 # Set some max number of iterations in case error threshold is set too small \n",
        "\n",
        "state_n = np.array([X0,Y0,Xdot0,Ydot0,g]).T # Initial starting guess of the state vector\n",
        "current_error = np.linalg.norm( state_n - state_true )\n",
        "\n",
        "print(\"Starting with initial guess state vector \",state_n)\n",
        "print(\" with initial error (norm of current-true) \",current_error) \n",
        "\n",
        "error_values = []\n",
        "error_values.append(current_error)\n",
        "iter = 0\n",
        "while current_error > error_threshold : \n",
        "  iter += 1\n",
        "  if iter > max_iterations : \n",
        "    print(\"Getting to too many iterations. Consider raising the error threshold.\") \n",
        "    break \n",
        "  print(\"\")\n",
        "  print(\"iteration \",iter)\n",
        "\n",
        "  J = J_n(state_n, obs_times, obs_rhos)\n",
        "\n",
        "  dJ_dX_inv = np.linalg.inv( dJ_dX( obs_times, state_n )) # Inverse of dJ/dX matrix\n",
        "\n",
        "  state_n_plus_1 =  state_n - np.dot( dJ_dX_inv, J)\n",
        "\n",
        "  state_n = state_n_plus_1 # Update the state guess for next iteration\n",
        "\n",
        "  current_error = np.linalg.norm( state_n - state_true ) # Calculate updated error \n",
        "  error_values.append(current_error) # Store error value for plotting \n",
        "  \n",
        "  print(\"updated state vector = \",state_n_plus_1)\n",
        "  print(\"state error =\", np.linalg.norm( state_n - state_true ))"
      ],
      "metadata": {
        "colab": {
          "base_uri": "https://localhost:8080/"
        },
        "id": "I4JacBXfsMv8",
        "outputId": "e11876a6-2272-465e-bfe7-6f7dcdc7a825"
      },
      "execution_count": 253,
      "outputs": [
        {
          "output_type": "stream",
          "name": "stdout",
          "text": [
            "Starting with initial guess state vector  [ 1.5 10.   2.2  0.5  0.3]\n",
            " with initial error (norm of current-true)  2.1400934559032696\n",
            "iteration  1\n",
            "updated state vector =  [0.40201401 8.04401559 2.13210213 1.12212897 0.55642231]\n",
            "state error = 0.6285495656342085\n",
            "iteration  2\n",
            "updated state vector =  [0.94095314 8.0201658  2.01001559 1.00553604 0.50253024]\n",
            "state error = 0.06348664155224351\n",
            "iteration  3\n",
            "updated state vector =  [0.99994979 8.00024718 1.99999576 0.99994462 0.49998612]\n",
            "state error = 0.0002586463916096796\n",
            "iteration  4\n",
            "updated state vector =  [1.00007365 8.         1.99998473 0.99998204 0.49999282]\n",
            "state error = 7.76614934692121e-05\n"
          ]
        }
      ]
    },
    {
      "cell_type": "markdown",
      "source": [
        "#### Plot the results: "
      ],
      "metadata": {
        "id": "L1eQF28kZSrc"
      }
    },
    {
      "cell_type": "code",
      "source": [
        "fig, ax = plt.subplots()\n",
        "ax.plot( np.arange(0,iter+1), error_values )\n",
        "ax.plot( np.array([0, iter]), error_threshold*np.array([1,1]), \"r--\" )\n",
        "\n",
        "plt.xlabel(\" Iteration \")\n",
        "plt.ylabel(\" Error (norm of difference) \")\n",
        "plt.title(\" Orbit state vector convergence \");\n",
        "plt.show() "
      ],
      "metadata": {
        "colab": {
          "base_uri": "https://localhost:8080/",
          "height": 295
        },
        "id": "VPpvNIgnZR-B",
        "outputId": "def0c842-ab24-407b-8cd7-c9b85d465c57"
      },
      "execution_count": 259,
      "outputs": [
        {
          "output_type": "display_data",
          "data": {
            "image/png": "[encoded data removed]",
            "text/plain": [
              "<Figure size 432x288 with 1 Axes>"
            ]
          },
          "metadata": {
            "needs_background": "light"
          }
        }
      ]
    }
  ]
}